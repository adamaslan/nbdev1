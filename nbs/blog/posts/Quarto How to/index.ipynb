{
 "cells": [
  {
   "cell_type": "markdown",
   "metadata": {},
   "source": [
    "# Quarto How to\n",
    "\n",
    "## first need Jupiter and NBdev\n",
    "\n",
    "## also the vscode extension\n",
    "\n",
    "## structure \n",
    "\n",
    "### blog directory\n",
    "\n",
    "### post directory\n",
    "\n",
    "## helpful links\n",
    "\n",
    "\n",
    "https://quarto.org/docs/websites/website-blog.html\n",
    "\n",
    "listing shih\n",
    "https://quarto.org/docs/websites/website-listings.html\n",
    "\n",
    "cats\n",
    "https://quarto.org/docs/websites/website-listings.html#categories\n",
    "\n",
    "https://quarto.org/docs/publishing/github-pages.html\n",
    "\n",
    "example chaski\n",
    "https://github.com/enzokro/chaski/blob/main/nbs/index.qmd"
   ]
  }
 ],
 "metadata": {
  "language_info": {
   "name": "python"
  }
 },
 "nbformat": 4,
 "nbformat_minor": 2
}

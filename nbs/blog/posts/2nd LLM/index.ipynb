{
 "cells": [
  {
   "cell_type": "code",
   "execution_count": 3,
   "metadata": {},
   "outputs": [],
   "source": [
    "# check if we can import the llama.cpp python bindings \n",
    "from llama_cpp import Llama"
   ]
  },
  {
   "cell_type": "code",
   "execution_count": 4,
   "metadata": {},
   "outputs": [
    {
     "name": "stderr",
     "output_type": "stream",
     "text": [
      "llama_model_loader: loaded meta data with 21 key-value pairs and 254 tensors from /Users/adamaslan/code/llm-class/llama.cpp//models/gemma-7b-it/gemma-7b-it-Q5_K_M.gguf (version GGUF V3 (latest))\n",
      "llama_model_loader: Dumping metadata keys/values. Note: KV overrides do not apply in this output.\n",
      "llama_model_loader: - kv   0:                       general.architecture str              = gemma\n",
      "llama_model_loader: - kv   1:                               general.name str              = gemma-7b-it\n",
      "llama_model_loader: - kv   2:                       gemma.context_length u32              = 8192\n",
      "llama_model_loader: - kv   3:                          gemma.block_count u32              = 28\n",
      "llama_model_loader: - kv   4:                     gemma.embedding_length u32              = 3072\n",
      "llama_model_loader: - kv   5:                  gemma.feed_forward_length u32              = 24576\n",
      "llama_model_loader: - kv   6:                 gemma.attention.head_count u32              = 16\n",
      "llama_model_loader: - kv   7:              gemma.attention.head_count_kv u32              = 16\n",
      "llama_model_loader: - kv   8:                 gemma.attention.key_length u32              = 256\n",
      "llama_model_loader: - kv   9:               gemma.attention.value_length u32              = 256\n",
      "llama_model_loader: - kv  10:     gemma.attention.layer_norm_rms_epsilon f32              = 0.000001\n",
      "llama_model_loader: - kv  11:                       tokenizer.ggml.model str              = llama\n",
      "llama_model_loader: - kv  12:                tokenizer.ggml.bos_token_id u32              = 2\n",
      "llama_model_loader: - kv  13:                tokenizer.ggml.eos_token_id u32              = 1\n",
      "llama_model_loader: - kv  14:            tokenizer.ggml.padding_token_id u32              = 0\n",
      "llama_model_loader: - kv  15:            tokenizer.ggml.unknown_token_id u32              = 3\n",
      "llama_model_loader: - kv  16:                      tokenizer.ggml.tokens arr[str,256128]  = [\"<pad>\", \"<eos>\", \"<bos>\", \"<unk>\", ...\n",
      "llama_model_loader: - kv  17:                      tokenizer.ggml.scores arr[f32,256128]  = [0.000000, 0.000000, 0.000000, 0.0000...\n",
      "llama_model_loader: - kv  18:                  tokenizer.ggml.token_type arr[i32,256128]  = [3, 3, 3, 2, 1, 1, 1, 1, 1, 1, 1, 1, ...\n",
      "llama_model_loader: - kv  19:               general.quantization_version u32              = 2\n",
      "llama_model_loader: - kv  20:                          general.file_type u32              = 17\n",
      "llama_model_loader: - type  f32:   57 tensors\n",
      "llama_model_loader: - type q5_K:  168 tensors\n",
      "llama_model_loader: - type q6_K:   29 tensors\n",
      "llm_load_vocab: mismatch in special tokens definition ( 544/256128 vs 388/256128 ).\n",
      "llm_load_print_meta: format           = GGUF V3 (latest)\n",
      "llm_load_print_meta: arch             = gemma\n",
      "llm_load_print_meta: vocab type       = SPM\n",
      "llm_load_print_meta: n_vocab          = 256128\n",
      "llm_load_print_meta: n_merges         = 0\n",
      "llm_load_print_meta: n_ctx_train      = 8192\n",
      "llm_load_print_meta: n_embd           = 3072\n",
      "llm_load_print_meta: n_head           = 16\n",
      "llm_load_print_meta: n_head_kv        = 16\n",
      "llm_load_print_meta: n_layer          = 28\n",
      "llm_load_print_meta: n_rot            = 192\n",
      "llm_load_print_meta: n_embd_head_k    = 256\n",
      "llm_load_print_meta: n_embd_head_v    = 256\n",
      "llm_load_print_meta: n_gqa            = 1\n",
      "llm_load_print_meta: n_embd_k_gqa     = 4096\n",
      "llm_load_print_meta: n_embd_v_gqa     = 4096\n",
      "llm_load_print_meta: f_norm_eps       = 0.0e+00\n",
      "llm_load_print_meta: f_norm_rms_eps   = 1.0e-06\n",
      "llm_load_print_meta: f_clamp_kqv      = 0.0e+00\n",
      "llm_load_print_meta: f_max_alibi_bias = 0.0e+00\n",
      "llm_load_print_meta: n_ff             = 24576\n",
      "llm_load_print_meta: n_expert         = 0\n",
      "llm_load_print_meta: n_expert_used    = 0\n",
      "llm_load_print_meta: pooling type     = 0\n",
      "llm_load_print_meta: rope type        = 2\n",
      "llm_load_print_meta: rope scaling     = linear\n",
      "llm_load_print_meta: freq_base_train  = 10000.0\n",
      "llm_load_print_meta: freq_scale_train = 1\n",
      "llm_load_print_meta: n_yarn_orig_ctx  = 8192\n",
      "llm_load_print_meta: rope_finetuned   = unknown\n",
      "llm_load_print_meta: ssm_d_conv       = 0\n",
      "llm_load_print_meta: ssm_d_inner      = 0\n",
      "llm_load_print_meta: ssm_d_state      = 0\n",
      "llm_load_print_meta: ssm_dt_rank      = 0\n",
      "llm_load_print_meta: model type       = 7B\n",
      "llm_load_print_meta: model ftype      = Q5_K - Medium\n",
      "llm_load_print_meta: model params     = 8.54 B\n",
      "llm_load_print_meta: model size       = 5.72 GiB (5.75 BPW) \n",
      "llm_load_print_meta: general.name     = gemma-7b-it\n",
      "llm_load_print_meta: BOS token        = 2 '<bos>'\n",
      "llm_load_print_meta: EOS token        = 1 '<eos>'\n",
      "llm_load_print_meta: UNK token        = 3 '<unk>'\n",
      "llm_load_print_meta: PAD token        = 0 '<pad>'\n",
      "llm_load_print_meta: LF token         = 227 '<0x0A>'\n",
      "llm_load_tensors: ggml ctx size =    0.10 MiB\n",
      "llm_load_tensors: offloading 0 repeating layers to GPU\n",
      "llm_load_tensors: offloaded 0/29 layers to GPU\n",
      "llm_load_tensors:        CPU buffer size =  5854.40 MiB\n",
      "...................................................................................\n",
      "llama_new_context_with_model: n_ctx      = 512\n",
      "llama_new_context_with_model: freq_base  = 10000.0\n",
      "llama_new_context_with_model: freq_scale = 1\n",
      "llama_kv_cache_init:        CPU KV buffer size =   224.00 MiB\n",
      "llama_new_context_with_model: KV self size  =  224.00 MiB, K (f16):  112.00 MiB, V (f16):  112.00 MiB\n",
      "llama_new_context_with_model:        CPU input buffer size   =     8.01 MiB\n",
      "llama_new_context_with_model:        CPU compute buffer size =   506.25 MiB\n",
      "llama_new_context_with_model: graph splits (measure): 1\n",
      "AVX = 1 | AVX_VNNI = 0 | AVX2 = 1 | AVX512 = 0 | AVX512_VBMI = 0 | AVX512_VNNI = 0 | FMA = 1 | NEON = 0 | ARM_FMA = 0 | F16C = 1 | FP16_VA = 0 | WASM_SIMD = 0 | BLAS = 1 | SSE3 = 1 | SSSE3 = 1 | VSX = 0 | MATMUL_INT8 = 0 | \n",
      "Model metadata: {'general.file_type': '17', 'general.quantization_version': '2', 'tokenizer.ggml.padding_token_id': '0', 'tokenizer.ggml.eos_token_id': '1', 'tokenizer.ggml.model': 'llama', 'gemma.attention.layer_norm_rms_epsilon': '0.000001', 'general.architecture': 'gemma', 'gemma.attention.head_count_kv': '16', 'gemma.feed_forward_length': '24576', 'tokenizer.ggml.bos_token_id': '2', 'gemma.embedding_length': '3072', 'gemma.block_count': '28', 'tokenizer.ggml.unknown_token_id': '3', 'gemma.attention.key_length': '256', 'gemma.context_length': '8192', 'general.name': 'gemma-7b-it', 'gemma.attention.value_length': '256', 'gemma.attention.head_count': '16'}\n",
      "Using fallback chat format: None\n"
     ]
    }
   ],
   "source": [
    "# point the Llama class to the model weights we downloaded in the previous sections\n",
    "work_dir = \"/Users/adamaslan/code/llm-class/llama.cpp/\"\n",
    "llm = Llama(f\"{work_dir}/models/gemma-7b-it/gemma-7b-it-Q5_K_M.gguf\");"
   ]
  },
  {
   "cell_type": "code",
   "execution_count": 5,
   "metadata": {},
   "outputs": [],
   "source": [
    "# asking Gemma for help building a website\n",
    "prefix = \"<start_of_turn>user\" \n",
    "suffix = \"<end_of_turn>\\n<start_of_turn>model\\n\"\n",
    "prompt = \"Please provide 10 simple steps for building a website.\"\n",
    "\n",
    "full_prompt = f'''<start_of_turn>user\n",
    "{prompt}\n",
    "<end_of_turn>\n",
    "<start_of_turn>model\"\n",
    "'''"
   ]
  },
  {
   "cell_type": "code",
   "execution_count": 6,
   "metadata": {},
   "outputs": [
    {
     "name": "stderr",
     "output_type": "stream",
     "text": [
      "\n",
      "llama_print_timings:        load time =   17481.13 ms\n",
      "llama_print_timings:      sample time =     182.91 ms /   306 runs   (    0.60 ms per token,  1672.98 tokens per second)\n",
      "llama_print_timings: prompt eval time =   17479.62 ms /    23 tokens (  759.98 ms per token,     1.32 tokens per second)\n",
      "llama_print_timings:        eval time =  138334.62 ms /   305 runs   (  453.56 ms per token,     2.20 tokens per second)\n",
      "llama_print_timings:       total time =  166783.57 ms /   328 tokens\n"
     ]
    }
   ],
   "source": [
    "# calling the llm from the notebook\n",
    "output = llm(\n",
    "    full_prompt, \n",
    "    max_tokens=500,\n",
    "    temperature=0.0,\n",
    "    repeat_penalty=1.0,\n",
    "    echo=True,\n",
    ");"
   ]
  },
  {
   "cell_type": "code",
   "execution_count": 7,
   "metadata": {},
   "outputs": [
    {
     "name": "stdout",
     "output_type": "stream",
     "text": [
      "<start_of_turn>user\n",
      "Please provide 10 simple steps for building a website.\n",
      "<end_of_turn>\n",
      "<start_of_turn>model\"\n",
      "**1. Choose a Domain Name:** Select a domain name that is relevant to your website's purpose and easy to remember.\n",
      "\n",
      "**2. Choose a Web Host:** Select a web hosting service that meets your needs in terms of bandwidth, storage space, and reliability.\n",
      "\n",
      "**3. Select a Content Management System (CMS):** Choose a CMS platform that allows you to easily manage your website content. Popular options include WordPress, Drupal, and Joomla.\n",
      "\n",
      "**4. Design Your Website:** Create a visually appealing website design that aligns with your brand identity. Consider factors such as layout, color scheme, and fonts.\n",
      "\n",
      "**5. Create Pages:** Develop key pages such as your homepage, about page, contact page, and product pages. Include clear content and high-quality images.\n",
      "\n",
      "**6. Optimize for Search Engines:** Use SEO techniques to optimize your website for search engines, such as using relevant keywords and meta descriptions.\n",
      "\n",
      "**7. Add Content:** Fill your website with valuable content that engages your target audience. This could include blog posts, articles, videos, and images.\n",
      "\n",
      "**8. Promote Your Website:** Once your website is live, promote it through various channels, such as social media, email marketing, and paid advertising.\n",
      "\n",
      "**9. Track and Analyze:** Use analytics tools to track your website's performance and make data-driven adjustments.\n",
      "\n",
      "**10. Continuously Update:** Keep your website up-to-date with fresh content, security updates, and technological advancements.\n"
     ]
    }
   ],
   "source": [
    "# viewing the in-notebook gemma-7b-it generation\n",
    "print(output['choices'][0]['text'])"
   ]
  }
 ],
 "metadata": {
  "kernelspec": {
   "display_name": "Python 3",
   "language": "python",
   "name": "python3"
  },
  "language_info": {
   "codemirror_mode": {
    "name": "ipython",
    "version": 3
   },
   "file_extension": ".py",
   "mimetype": "text/x-python",
   "name": "python",
   "nbconvert_exporter": "python",
   "pygments_lexer": "ipython3",
   "version": "3.11.8"
  }
 },
 "nbformat": 4,
 "nbformat_minor": 2
}
